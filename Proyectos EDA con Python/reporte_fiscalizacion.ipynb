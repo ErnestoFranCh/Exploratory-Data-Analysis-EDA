{
 "cells": [
  {
   "cell_type": "markdown",
   "metadata": {},
   "source": [
    "# Reporte de la recaudación obtenida de la fiscalización.\n",
    "\n",
    "Recaudación acumulada anual, presentada de manera trimestral, obtenida por los actos de fiscalización con los que esta facultada la autoridad fiscal para verificar o comprobar el cumplimiento de las obligaciones fiscales.\n",
    "\n",
    "**Aclaraciones:** \n",
    "\n",
    "Recaudación de las áreas fiscalizadoras (Administración General de Auditoría Fiscal Federal, Administración General de Grandes Contribuyentes, Administración General de Hidrocarburos y Administración General de Auditoría de Comercio Exterior) como resultado de los actos de fiscalización.\n",
    "Virtual se refiere a la cantidad que el contribuyente no podrá utilizar para futuros pagos de impuestos, solicitar devoluciones, realizar compensaciones o aplicar pérdidas fiscales, entre otros, lo que generará un incremento en la recaudación.\n",
    "\n",
    "A partir de 2024 la recaudación por este concepto considera pagos únicos por contribuyente y fecha de pago.\n",
    "\n",
    "\\* Cifras preliminares.\n",
    "\n",
    "Fuente: SAT."
   ]
  },
  {
   "cell_type": "code",
   "execution_count": 3,
   "metadata": {},
   "outputs": [],
   "source": [
    "import pandas as pd\n",
    "import chardet"
   ]
  },
  {
   "cell_type": "markdown",
   "metadata": {},
   "source": [
    "# Limpieza de la informacion."
   ]
  },
  {
   "cell_type": "code",
   "execution_count": 4,
   "metadata": {},
   "outputs": [
    {
     "name": "stdout",
     "output_type": "stream",
     "text": [
      "ISO-8859-1\n"
     ]
    }
   ],
   "source": [
    "file = r'C:\\Users\\Ernes\\OneDrive\\Documents\\bases de datos\\Mexico\\economia\\FORMATO_57_RecDerAud.csv'\n",
    "\n",
    "with open(file, 'rb') as f:\n",
    "    result = chardet.detect(f.read(100000))  \n",
    "\n",
    "print(result['encoding'])  # Muestra la codificación detectada"
   ]
  },
  {
   "cell_type": "code",
   "execution_count": 5,
   "metadata": {},
   "outputs": [],
   "source": [
    "data = pd.read_csv(file,encoding = result['encoding'])"
   ]
  },
  {
   "cell_type": "markdown",
   "metadata": {},
   "source": [
    "### Informacion del dataframe"
   ]
  },
  {
   "cell_type": "code",
   "execution_count": 6,
   "metadata": {},
   "outputs": [
    {
     "data": {
      "text/plain": [
       "Index(['Año_Millones de pesos (acumulado por año)', 'Trimestre', 'Efectivo',\n",
       "       'Virtual'],\n",
       "      dtype='object')"
      ]
     },
     "execution_count": 6,
     "metadata": {},
     "output_type": "execute_result"
    }
   ],
   "source": [
    "data.columns"
   ]
  },
  {
   "cell_type": "code",
   "execution_count": 7,
   "metadata": {},
   "outputs": [
    {
     "data": {
      "text/html": [
       "<div>\n",
       "<style scoped>\n",
       "    .dataframe tbody tr th:only-of-type {\n",
       "        vertical-align: middle;\n",
       "    }\n",
       "\n",
       "    .dataframe tbody tr th {\n",
       "        vertical-align: top;\n",
       "    }\n",
       "\n",
       "    .dataframe thead th {\n",
       "        text-align: right;\n",
       "    }\n",
       "</style>\n",
       "<table border=\"1\" class=\"dataframe\">\n",
       "  <thead>\n",
       "    <tr style=\"text-align: right;\">\n",
       "      <th></th>\n",
       "      <th>Año_Millones de pesos (acumulado por año)</th>\n",
       "      <th>Trimestre</th>\n",
       "      <th>Efectivo</th>\n",
       "      <th>Virtual</th>\n",
       "    </tr>\n",
       "  </thead>\n",
       "  <tbody>\n",
       "    <tr>\n",
       "      <th>0</th>\n",
       "      <td>NaN</td>\n",
       "      <td>NaN</td>\n",
       "      <td>NaN</td>\n",
       "      <td>NaN</td>\n",
       "    </tr>\n",
       "    <tr>\n",
       "      <th>1</th>\n",
       "      <td>2011.0</td>\n",
       "      <td>Primero</td>\n",
       "      <td>6669.58937</td>\n",
       "      <td>20100.16381</td>\n",
       "    </tr>\n",
       "    <tr>\n",
       "      <th>2</th>\n",
       "      <td>2011.0</td>\n",
       "      <td>Segundo</td>\n",
       "      <td>15462.74334</td>\n",
       "      <td>30736.60310</td>\n",
       "    </tr>\n",
       "    <tr>\n",
       "      <th>3</th>\n",
       "      <td>2011.0</td>\n",
       "      <td>Tercero</td>\n",
       "      <td>25130.08064</td>\n",
       "      <td>48745.72580</td>\n",
       "    </tr>\n",
       "    <tr>\n",
       "      <th>4</th>\n",
       "      <td>2011.0</td>\n",
       "      <td>Cuarto</td>\n",
       "      <td>31802.06736</td>\n",
       "      <td>70820.09293</td>\n",
       "    </tr>\n",
       "  </tbody>\n",
       "</table>\n",
       "</div>"
      ],
      "text/plain": [
       "   Año_Millones de pesos (acumulado por año) Trimestre     Efectivo  \\\n",
       "0                                        NaN       NaN          NaN   \n",
       "1                                     2011.0   Primero   6669.58937   \n",
       "2                                     2011.0   Segundo  15462.74334   \n",
       "3                                     2011.0   Tercero  25130.08064   \n",
       "4                                     2011.0    Cuarto  31802.06736   \n",
       "\n",
       "       Virtual  \n",
       "0          NaN  \n",
       "1  20100.16381  \n",
       "2  30736.60310  \n",
       "3  48745.72580  \n",
       "4  70820.09293  "
      ]
     },
     "execution_count": 7,
     "metadata": {},
     "output_type": "execute_result"
    }
   ],
   "source": [
    "data.head()"
   ]
  },
  {
   "cell_type": "code",
   "execution_count": 8,
   "metadata": {},
   "outputs": [
    {
     "data": {
      "text/html": [
       "<div>\n",
       "<style scoped>\n",
       "    .dataframe tbody tr th:only-of-type {\n",
       "        vertical-align: middle;\n",
       "    }\n",
       "\n",
       "    .dataframe tbody tr th {\n",
       "        vertical-align: top;\n",
       "    }\n",
       "\n",
       "    .dataframe thead th {\n",
       "        text-align: right;\n",
       "    }\n",
       "</style>\n",
       "<table border=\"1\" class=\"dataframe\">\n",
       "  <thead>\n",
       "    <tr style=\"text-align: right;\">\n",
       "      <th></th>\n",
       "      <th>Año_Millones de pesos (acumulado por año)</th>\n",
       "      <th>Trimestre</th>\n",
       "      <th>Efectivo</th>\n",
       "      <th>Virtual</th>\n",
       "    </tr>\n",
       "  </thead>\n",
       "  <tbody>\n",
       "    <tr>\n",
       "      <th>60</th>\n",
       "      <td>NaN</td>\n",
       "      <td>NaN</td>\n",
       "      <td>NaN</td>\n",
       "      <td>NaN</td>\n",
       "    </tr>\n",
       "    <tr>\n",
       "      <th>61</th>\n",
       "      <td>NaN</td>\n",
       "      <td>Nota: Recaudación de las áreas fiscalizadoras ...</td>\n",
       "      <td>NaN</td>\n",
       "      <td>NaN</td>\n",
       "    </tr>\n",
       "    <tr>\n",
       "      <th>62</th>\n",
       "      <td>NaN</td>\n",
       "      <td>A partir de 2024 la recaudación por este conce...</td>\n",
       "      <td>NaN</td>\n",
       "      <td>NaN</td>\n",
       "    </tr>\n",
       "    <tr>\n",
       "      <th>63</th>\n",
       "      <td>NaN</td>\n",
       "      <td>* Cifras preliminares.</td>\n",
       "      <td>NaN</td>\n",
       "      <td>NaN</td>\n",
       "    </tr>\n",
       "    <tr>\n",
       "      <th>64</th>\n",
       "      <td>NaN</td>\n",
       "      <td>Fuente: SAT.</td>\n",
       "      <td>NaN</td>\n",
       "      <td>NaN</td>\n",
       "    </tr>\n",
       "  </tbody>\n",
       "</table>\n",
       "</div>"
      ],
      "text/plain": [
       "    Año_Millones de pesos (acumulado por año)  \\\n",
       "60                                        NaN   \n",
       "61                                        NaN   \n",
       "62                                        NaN   \n",
       "63                                        NaN   \n",
       "64                                        NaN   \n",
       "\n",
       "                                            Trimestre  Efectivo  Virtual  \n",
       "60                                                NaN       NaN      NaN  \n",
       "61  Nota: Recaudación de las áreas fiscalizadoras ...       NaN      NaN  \n",
       "62  A partir de 2024 la recaudación por este conce...       NaN      NaN  \n",
       "63                             * Cifras preliminares.       NaN      NaN  \n",
       "64                                       Fuente: SAT.       NaN      NaN  "
      ]
     },
     "execution_count": 8,
     "metadata": {},
     "output_type": "execute_result"
    }
   ],
   "source": [
    "data.tail()"
   ]
  },
  {
   "cell_type": "markdown",
   "metadata": {},
   "source": [
    "Existe una nota informatica dentro del archivo csv, vamos a indentificar donde comienza la nota informatica para separarla de la tabla."
   ]
  },
  {
   "cell_type": "code",
   "execution_count": 9,
   "metadata": {},
   "outputs": [
    {
     "name": "stdout",
     "output_type": "stream",
     "text": [
      "Nota: Recaudación de las áreas fiscalizadoras (Administración General de Auditoría Fiscal Federal, Administración General de Grandes Contribuyentes, Administración General de Hidrocarburos y Administración General de Auditoría de Comercio Exterior) como resultado de los actos de fiscalización.\n",
      "Virtual se refiere a la cantidad que el contribuyente no podrá utilizar para futuros pagos de impuestos, solicitar devoluciones, realizar compensaciones o aplicar pérdidas fiscales, entre otros, lo que generará un incremento en la recaudación.\n",
      "\n",
      "A partir de 2024 la recaudación por este concepto considera pagos únicos por contribuyente y fecha de pago.\n",
      "\n",
      "* Cifras preliminares.\n",
      "\n",
      "Fuente: SAT.\n"
     ]
    }
   ],
   "source": [
    "a,b,c,d = data['Trimestre'][61:65]\n",
    "note =  a + '\\n\\n' + b + '\\n\\n' + c + '\\n\\n' + d\n",
    "print(note)"
   ]
  },
  {
   "cell_type": "markdown",
   "metadata": {},
   "source": [
    "Nota: Recaudación de las áreas fiscalizadoras (Administración General de Auditoría Fiscal Federal, Administración General de Grandes Contribuyentes, Administración General de Hidrocarburos y Administración General de Auditoría de Comercio Exterior) como resultado de los actos de fiscalización.\n",
    "Virtual se refiere a la cantidad que el contribuyente no podrá utilizar para futuros pagos de impuestos, solicitar devoluciones, realizar compensaciones o aplicar pérdidas fiscales, entre otros, lo que generará un incremento en la recaudación.\n",
    "\n",
    "A partir de 2024 la recaudación por este concepto considera pagos únicos por contribuyente y fecha de pago.\n",
    "\n",
    "* Cifras preliminares.\n",
    "\n",
    "Fuente: SAT."
   ]
  },
  {
   "cell_type": "code",
   "execution_count": 10,
   "metadata": {},
   "outputs": [
    {
     "data": {
      "text/html": [
       "<div>\n",
       "<style scoped>\n",
       "    .dataframe tbody tr th:only-of-type {\n",
       "        vertical-align: middle;\n",
       "    }\n",
       "\n",
       "    .dataframe tbody tr th {\n",
       "        vertical-align: top;\n",
       "    }\n",
       "\n",
       "    .dataframe thead th {\n",
       "        text-align: right;\n",
       "    }\n",
       "</style>\n",
       "<table border=\"1\" class=\"dataframe\">\n",
       "  <thead>\n",
       "    <tr style=\"text-align: right;\">\n",
       "      <th></th>\n",
       "      <th>Año_Millones de pesos (acumulado por año)</th>\n",
       "      <th>Trimestre</th>\n",
       "      <th>Efectivo</th>\n",
       "      <th>Virtual</th>\n",
       "    </tr>\n",
       "  </thead>\n",
       "  <tbody>\n",
       "    <tr>\n",
       "      <th>50</th>\n",
       "      <td>2023.0</td>\n",
       "      <td>Segundo</td>\n",
       "      <td>132025.4982</td>\n",
       "      <td>177736.5235</td>\n",
       "    </tr>\n",
       "    <tr>\n",
       "      <th>51</th>\n",
       "      <td>2023.0</td>\n",
       "      <td>Tercero</td>\n",
       "      <td>182602.9629</td>\n",
       "      <td>234283.2095</td>\n",
       "    </tr>\n",
       "    <tr>\n",
       "      <th>52</th>\n",
       "      <td>2023.0</td>\n",
       "      <td>Cuarto</td>\n",
       "      <td>238243.1524</td>\n",
       "      <td>264297.2150</td>\n",
       "    </tr>\n",
       "    <tr>\n",
       "      <th>53</th>\n",
       "      <td>2024.0</td>\n",
       "      <td>Primero</td>\n",
       "      <td>65749.9556</td>\n",
       "      <td>119937.2497</td>\n",
       "    </tr>\n",
       "    <tr>\n",
       "      <th>54</th>\n",
       "      <td>2024.0</td>\n",
       "      <td>Segundo</td>\n",
       "      <td>118357.7484</td>\n",
       "      <td>406747.5826</td>\n",
       "    </tr>\n",
       "    <tr>\n",
       "      <th>55</th>\n",
       "      <td>2024.0</td>\n",
       "      <td>Tercero</td>\n",
       "      <td>154282.8184</td>\n",
       "      <td>535424.3322</td>\n",
       "    </tr>\n",
       "    <tr>\n",
       "      <th>56</th>\n",
       "      <td>2024.0</td>\n",
       "      <td>Cuarto</td>\n",
       "      <td>198050.9631</td>\n",
       "      <td>588680.7245</td>\n",
       "    </tr>\n",
       "    <tr>\n",
       "      <th>57</th>\n",
       "      <td>NaN</td>\n",
       "      <td>NaN</td>\n",
       "      <td>NaN</td>\n",
       "      <td>NaN</td>\n",
       "    </tr>\n",
       "    <tr>\n",
       "      <th>58</th>\n",
       "      <td>NaN</td>\n",
       "      <td>NaN</td>\n",
       "      <td>NaN</td>\n",
       "      <td>NaN</td>\n",
       "    </tr>\n",
       "    <tr>\n",
       "      <th>59</th>\n",
       "      <td>NaN</td>\n",
       "      <td>NaN</td>\n",
       "      <td>NaN</td>\n",
       "      <td>NaN</td>\n",
       "    </tr>\n",
       "    <tr>\n",
       "      <th>60</th>\n",
       "      <td>NaN</td>\n",
       "      <td>NaN</td>\n",
       "      <td>NaN</td>\n",
       "      <td>NaN</td>\n",
       "    </tr>\n",
       "    <tr>\n",
       "      <th>61</th>\n",
       "      <td>NaN</td>\n",
       "      <td>Nota: Recaudación de las áreas fiscalizadoras ...</td>\n",
       "      <td>NaN</td>\n",
       "      <td>NaN</td>\n",
       "    </tr>\n",
       "    <tr>\n",
       "      <th>62</th>\n",
       "      <td>NaN</td>\n",
       "      <td>A partir de 2024 la recaudación por este conce...</td>\n",
       "      <td>NaN</td>\n",
       "      <td>NaN</td>\n",
       "    </tr>\n",
       "    <tr>\n",
       "      <th>63</th>\n",
       "      <td>NaN</td>\n",
       "      <td>* Cifras preliminares.</td>\n",
       "      <td>NaN</td>\n",
       "      <td>NaN</td>\n",
       "    </tr>\n",
       "    <tr>\n",
       "      <th>64</th>\n",
       "      <td>NaN</td>\n",
       "      <td>Fuente: SAT.</td>\n",
       "      <td>NaN</td>\n",
       "      <td>NaN</td>\n",
       "    </tr>\n",
       "  </tbody>\n",
       "</table>\n",
       "</div>"
      ],
      "text/plain": [
       "    Año_Millones de pesos (acumulado por año)  \\\n",
       "50                                     2023.0   \n",
       "51                                     2023.0   \n",
       "52                                     2023.0   \n",
       "53                                     2024.0   \n",
       "54                                     2024.0   \n",
       "55                                     2024.0   \n",
       "56                                     2024.0   \n",
       "57                                        NaN   \n",
       "58                                        NaN   \n",
       "59                                        NaN   \n",
       "60                                        NaN   \n",
       "61                                        NaN   \n",
       "62                                        NaN   \n",
       "63                                        NaN   \n",
       "64                                        NaN   \n",
       "\n",
       "                                            Trimestre     Efectivo  \\\n",
       "50                                            Segundo  132025.4982   \n",
       "51                                            Tercero  182602.9629   \n",
       "52                                             Cuarto  238243.1524   \n",
       "53                                            Primero   65749.9556   \n",
       "54                                            Segundo  118357.7484   \n",
       "55                                            Tercero  154282.8184   \n",
       "56                                             Cuarto  198050.9631   \n",
       "57                                                NaN          NaN   \n",
       "58                                                NaN          NaN   \n",
       "59                                                NaN          NaN   \n",
       "60                                                NaN          NaN   \n",
       "61  Nota: Recaudación de las áreas fiscalizadoras ...          NaN   \n",
       "62  A partir de 2024 la recaudación por este conce...          NaN   \n",
       "63                             * Cifras preliminares.          NaN   \n",
       "64                                       Fuente: SAT.          NaN   \n",
       "\n",
       "        Virtual  \n",
       "50  177736.5235  \n",
       "51  234283.2095  \n",
       "52  264297.2150  \n",
       "53  119937.2497  \n",
       "54  406747.5826  \n",
       "55  535424.3322  \n",
       "56  588680.7245  \n",
       "57          NaN  \n",
       "58          NaN  \n",
       "59          NaN  \n",
       "60          NaN  \n",
       "61          NaN  \n",
       "62          NaN  \n",
       "63          NaN  \n",
       "64          NaN  "
      ]
     },
     "execution_count": 10,
     "metadata": {},
     "output_type": "execute_result"
    }
   ],
   "source": [
    "data.tail(15)"
   ]
  },
  {
   "cell_type": "markdown",
   "metadata": {},
   "source": [
    "Limpiamos los valores nulos"
   ]
  },
  {
   "cell_type": "code",
   "execution_count": 11,
   "metadata": {},
   "outputs": [
    {
     "name": "stdout",
     "output_type": "stream",
     "text": [
      "Año_Millones de pesos (acumulado por año)    9\n",
      "Trimestre                                    5\n",
      "Efectivo                                     9\n",
      "Virtual                                      9\n",
      "dtype: int64\n"
     ]
    }
   ],
   "source": [
    "print(data.isna().sum()) #verificamos cuantos valores nulos hay "
   ]
  },
  {
   "cell_type": "code",
   "execution_count": 12,
   "metadata": {},
   "outputs": [],
   "source": [
    "data_cleaned = data.dropna()"
   ]
  },
  {
   "cell_type": "code",
   "execution_count": 13,
   "metadata": {},
   "outputs": [
    {
     "data": {
      "text/html": [
       "<div>\n",
       "<style scoped>\n",
       "    .dataframe tbody tr th:only-of-type {\n",
       "        vertical-align: middle;\n",
       "    }\n",
       "\n",
       "    .dataframe tbody tr th {\n",
       "        vertical-align: top;\n",
       "    }\n",
       "\n",
       "    .dataframe thead th {\n",
       "        text-align: right;\n",
       "    }\n",
       "</style>\n",
       "<table border=\"1\" class=\"dataframe\">\n",
       "  <thead>\n",
       "    <tr style=\"text-align: right;\">\n",
       "      <th></th>\n",
       "      <th>Año_Millones de pesos (acumulado por año)</th>\n",
       "      <th>Trimestre</th>\n",
       "      <th>Efectivo</th>\n",
       "      <th>Virtual</th>\n",
       "    </tr>\n",
       "  </thead>\n",
       "  <tbody>\n",
       "    <tr>\n",
       "      <th>1</th>\n",
       "      <td>2011.0</td>\n",
       "      <td>Primero</td>\n",
       "      <td>6669.589370</td>\n",
       "      <td>20100.16381</td>\n",
       "    </tr>\n",
       "    <tr>\n",
       "      <th>2</th>\n",
       "      <td>2011.0</td>\n",
       "      <td>Segundo</td>\n",
       "      <td>15462.743340</td>\n",
       "      <td>30736.60310</td>\n",
       "    </tr>\n",
       "    <tr>\n",
       "      <th>3</th>\n",
       "      <td>2011.0</td>\n",
       "      <td>Tercero</td>\n",
       "      <td>25130.080640</td>\n",
       "      <td>48745.72580</td>\n",
       "    </tr>\n",
       "    <tr>\n",
       "      <th>4</th>\n",
       "      <td>2011.0</td>\n",
       "      <td>Cuarto</td>\n",
       "      <td>31802.067360</td>\n",
       "      <td>70820.09293</td>\n",
       "    </tr>\n",
       "    <tr>\n",
       "      <th>5</th>\n",
       "      <td>2012.0</td>\n",
       "      <td>Primero</td>\n",
       "      <td>8662.817577</td>\n",
       "      <td>14237.83582</td>\n",
       "    </tr>\n",
       "  </tbody>\n",
       "</table>\n",
       "</div>"
      ],
      "text/plain": [
       "   Año_Millones de pesos (acumulado por año) Trimestre      Efectivo  \\\n",
       "1                                     2011.0   Primero   6669.589370   \n",
       "2                                     2011.0   Segundo  15462.743340   \n",
       "3                                     2011.0   Tercero  25130.080640   \n",
       "4                                     2011.0    Cuarto  31802.067360   \n",
       "5                                     2012.0   Primero   8662.817577   \n",
       "\n",
       "       Virtual  \n",
       "1  20100.16381  \n",
       "2  30736.60310  \n",
       "3  48745.72580  \n",
       "4  70820.09293  \n",
       "5  14237.83582  "
      ]
     },
     "execution_count": 13,
     "metadata": {},
     "output_type": "execute_result"
    }
   ],
   "source": [
    "data_cleaned.head()"
   ]
  },
  {
   "cell_type": "code",
   "execution_count": 14,
   "metadata": {},
   "outputs": [
    {
     "data": {
      "text/html": [
       "<div>\n",
       "<style scoped>\n",
       "    .dataframe tbody tr th:only-of-type {\n",
       "        vertical-align: middle;\n",
       "    }\n",
       "\n",
       "    .dataframe tbody tr th {\n",
       "        vertical-align: top;\n",
       "    }\n",
       "\n",
       "    .dataframe thead th {\n",
       "        text-align: right;\n",
       "    }\n",
       "</style>\n",
       "<table border=\"1\" class=\"dataframe\">\n",
       "  <thead>\n",
       "    <tr style=\"text-align: right;\">\n",
       "      <th></th>\n",
       "      <th>Año_Millones de pesos (acumulado por año)</th>\n",
       "      <th>Trimestre</th>\n",
       "      <th>Efectivo</th>\n",
       "      <th>Virtual</th>\n",
       "    </tr>\n",
       "  </thead>\n",
       "  <tbody>\n",
       "    <tr>\n",
       "      <th>52</th>\n",
       "      <td>2023.0</td>\n",
       "      <td>Cuarto</td>\n",
       "      <td>238243.1524</td>\n",
       "      <td>264297.2150</td>\n",
       "    </tr>\n",
       "    <tr>\n",
       "      <th>53</th>\n",
       "      <td>2024.0</td>\n",
       "      <td>Primero</td>\n",
       "      <td>65749.9556</td>\n",
       "      <td>119937.2497</td>\n",
       "    </tr>\n",
       "    <tr>\n",
       "      <th>54</th>\n",
       "      <td>2024.0</td>\n",
       "      <td>Segundo</td>\n",
       "      <td>118357.7484</td>\n",
       "      <td>406747.5826</td>\n",
       "    </tr>\n",
       "    <tr>\n",
       "      <th>55</th>\n",
       "      <td>2024.0</td>\n",
       "      <td>Tercero</td>\n",
       "      <td>154282.8184</td>\n",
       "      <td>535424.3322</td>\n",
       "    </tr>\n",
       "    <tr>\n",
       "      <th>56</th>\n",
       "      <td>2024.0</td>\n",
       "      <td>Cuarto</td>\n",
       "      <td>198050.9631</td>\n",
       "      <td>588680.7245</td>\n",
       "    </tr>\n",
       "  </tbody>\n",
       "</table>\n",
       "</div>"
      ],
      "text/plain": [
       "    Año_Millones de pesos (acumulado por año) Trimestre     Efectivo  \\\n",
       "52                                     2023.0    Cuarto  238243.1524   \n",
       "53                                     2024.0   Primero   65749.9556   \n",
       "54                                     2024.0   Segundo  118357.7484   \n",
       "55                                     2024.0   Tercero  154282.8184   \n",
       "56                                     2024.0    Cuarto  198050.9631   \n",
       "\n",
       "        Virtual  \n",
       "52  264297.2150  \n",
       "53  119937.2497  \n",
       "54  406747.5826  \n",
       "55  535424.3322  \n",
       "56  588680.7245  "
      ]
     },
     "execution_count": 14,
     "metadata": {},
     "output_type": "execute_result"
    }
   ],
   "source": [
    "data_cleaned.tail()"
   ]
  },
  {
   "cell_type": "markdown",
   "metadata": {},
   "source": [
    "# Optimizacion de la informacion."
   ]
  },
  {
   "cell_type": "code",
   "execution_count": 15,
   "metadata": {},
   "outputs": [
    {
     "name": "stdout",
     "output_type": "stream",
     "text": [
      "Año_Millones de pesos (acumulado por año)    float64\n",
      "Trimestre                                     object\n",
      "Efectivo                                     float64\n",
      "Virtual                                      float64\n",
      "dtype: object\n",
      "\n",
      " Index                                         448\n",
      "Año_Millones de pesos (acumulado por año)     448\n",
      "Trimestre                                    3570\n",
      "Efectivo                                      448\n",
      "Virtual                                       448\n",
      "dtype: int64\n"
     ]
    }
   ],
   "source": [
    "print(data_cleaned.dtypes)\n",
    "info1 = data_cleaned.memory_usage(deep = True)\n",
    "print('\\n', info1)"
   ]
  },
  {
   "cell_type": "code",
   "execution_count": 16,
   "metadata": {},
   "outputs": [],
   "source": [
    "data_optimized = (data_cleaned.astype({\n",
    "    'Año_Millones de pesos (acumulado por año)': 'int16',\n",
    "    'Trimestre':'category',\n",
    "    'Efectivo':'float32',\n",
    "    'Virtual':'float32'\n",
    "}))"
   ]
  },
  {
   "cell_type": "code",
   "execution_count": 17,
   "metadata": {},
   "outputs": [
    {
     "data": {
      "text/plain": [
       "Año_Millones de pesos (acumulado por año)       int16\n",
       "Trimestre                                    category\n",
       "Efectivo                                      float32\n",
       "Virtual                                       float32\n",
       "dtype: object"
      ]
     },
     "execution_count": 17,
     "metadata": {},
     "output_type": "execute_result"
    }
   ],
   "source": [
    "data_optimized.dtypes"
   ]
  },
  {
   "cell_type": "code",
   "execution_count": 18,
   "metadata": {},
   "outputs": [
    {
     "name": "stdout",
     "output_type": "stream",
     "text": [
      "Index                                         448\n",
      "Año_Millones de pesos (acumulado por año)     448\n",
      "Trimestre                                    3570\n",
      "Efectivo                                      448\n",
      "Virtual                                       448\n",
      "dtype: int64\n"
     ]
    },
    {
     "data": {
      "text/plain": [
       "Index                                        448\n",
       "Año_Millones de pesos (acumulado por año)    112\n",
       "Trimestre                                    483\n",
       "Efectivo                                     224\n",
       "Virtual                                      224\n",
       "dtype: int64"
      ]
     },
     "execution_count": 18,
     "metadata": {},
     "output_type": "execute_result"
    }
   ],
   "source": [
    "print(info1)\n",
    "data_optimized.memory_usage(deep = True)"
   ]
  },
  {
   "cell_type": "markdown",
   "metadata": {},
   "source": [
    "# Analisis de la informacion."
   ]
  },
  {
   "cell_type": "markdown",
   "metadata": {},
   "source": [
    "### 1. Trimestres por año donde hubo mayor recaudacion."
   ]
  },
  {
   "cell_type": "markdown",
   "metadata": {},
   "source": [
    "Los datos son acumulados anualmente presentados trimestralmente."
   ]
  },
  {
   "cell_type": "code",
   "execution_count": 20,
   "metadata": {},
   "outputs": [],
   "source": [
    "data_optimized.rename(columns={'Año_Millones de pesos (acumulado por año)': 'Año'}, inplace=True)"
   ]
  },
  {
   "cell_type": "code",
   "execution_count": 21,
   "metadata": {},
   "outputs": [],
   "source": [
    "l = []\n",
    "\n",
    "data_perse = {}\n",
    "#primer trimestre\n",
    "data_perse['Año'] = data_optimized['Año'].iloc[0]\n",
    "data_perse['Trimestre'] = data_optimized['Trimestre'].iloc[0]\n",
    "data_perse['Efectivo'] = data_optimized['Efectivo'].iloc[0]\n",
    "data_perse['Virtual'] = data_optimized['Virtual'].iloc[0]\n",
    "l.append(data_perse)\n",
    "\n",
    "for i in range(1, data_optimized.shape[0]): \n",
    "    f = data_optimized['Trimestre'].iloc[i]\n",
    "    data_perse = {}\n",
    "\n",
    "    if f == data_optimized['Trimestre'].iloc[0]:  #primer trimestre de cada año\n",
    "        data_perse['Año'] = data_optimized['Año'].iloc[i]\n",
    "        data_perse['Trimestre'] = f\n",
    "        data_perse['Efectivo'] = data_optimized['Efectivo'].iloc[i]\n",
    "        data_perse['Virtual'] = data_optimized['Virtual'].iloc[i]\n",
    "    else:  \n",
    "      \n",
    "        data_perse['Año'] = data_optimized['Año'].iloc[i]\n",
    "        data_perse['Trimestre'] = f\n",
    "        data_perse['Efectivo'] = data_optimized['Efectivo'].iloc[i] - data_optimized['Efectivo'].iloc[i-1]\n",
    "        data_perse['Virtual'] = data_optimized['Virtual'].iloc[i] - data_optimized['Virtual'].iloc[i-1]\n",
    "\n",
    "    l.append(data_perse)\n",
    "\n"
   ]
  },
  {
   "cell_type": "code",
   "execution_count": null,
   "metadata": {},
   "outputs": [],
   "source": [
    "recaudacion_tri = pd.DataFrame(l) #Recaudacion por trimestre"
   ]
  },
  {
   "cell_type": "code",
   "execution_count": 23,
   "metadata": {},
   "outputs": [
    {
     "data": {
      "text/html": [
       "<div>\n",
       "<style scoped>\n",
       "    .dataframe tbody tr th:only-of-type {\n",
       "        vertical-align: middle;\n",
       "    }\n",
       "\n",
       "    .dataframe tbody tr th {\n",
       "        vertical-align: top;\n",
       "    }\n",
       "\n",
       "    .dataframe thead th {\n",
       "        text-align: right;\n",
       "    }\n",
       "</style>\n",
       "<table border=\"1\" class=\"dataframe\">\n",
       "  <thead>\n",
       "    <tr style=\"text-align: right;\">\n",
       "      <th></th>\n",
       "      <th>Año</th>\n",
       "      <th>Trimestre</th>\n",
       "      <th>Efectivo</th>\n",
       "      <th>Virtual</th>\n",
       "    </tr>\n",
       "  </thead>\n",
       "  <tbody>\n",
       "    <tr>\n",
       "      <th>0</th>\n",
       "      <td>2011</td>\n",
       "      <td>Primero</td>\n",
       "      <td>6669.589355</td>\n",
       "      <td>20100.164062</td>\n",
       "    </tr>\n",
       "    <tr>\n",
       "      <th>1</th>\n",
       "      <td>2011</td>\n",
       "      <td>Segundo</td>\n",
       "      <td>8793.154297</td>\n",
       "      <td>10636.439453</td>\n",
       "    </tr>\n",
       "    <tr>\n",
       "      <th>2</th>\n",
       "      <td>2011</td>\n",
       "      <td>Tercero</td>\n",
       "      <td>9667.336914</td>\n",
       "      <td>18009.123047</td>\n",
       "    </tr>\n",
       "    <tr>\n",
       "      <th>3</th>\n",
       "      <td>2011</td>\n",
       "      <td>Cuarto</td>\n",
       "      <td>6671.986328</td>\n",
       "      <td>22074.367188</td>\n",
       "    </tr>\n",
       "    <tr>\n",
       "      <th>4</th>\n",
       "      <td>2012</td>\n",
       "      <td>Primero</td>\n",
       "      <td>8662.817383</td>\n",
       "      <td>14237.835938</td>\n",
       "    </tr>\n",
       "  </tbody>\n",
       "</table>\n",
       "</div>"
      ],
      "text/plain": [
       "    Año Trimestre     Efectivo       Virtual\n",
       "0  2011   Primero  6669.589355  20100.164062\n",
       "1  2011   Segundo  8793.154297  10636.439453\n",
       "2  2011   Tercero  9667.336914  18009.123047\n",
       "3  2011    Cuarto  6671.986328  22074.367188\n",
       "4  2012   Primero  8662.817383  14237.835938"
      ]
     },
     "execution_count": 23,
     "metadata": {},
     "output_type": "execute_result"
    }
   ],
   "source": [
    "recaudacion_tri.head()"
   ]
  },
  {
   "cell_type": "code",
   "execution_count": 137,
   "metadata": {},
   "outputs": [
    {
     "data": {
      "text/html": [
       "<div>\n",
       "<style scoped>\n",
       "    .dataframe tbody tr th:only-of-type {\n",
       "        vertical-align: middle;\n",
       "    }\n",
       "\n",
       "    .dataframe tbody tr th {\n",
       "        vertical-align: top;\n",
       "    }\n",
       "\n",
       "    .dataframe thead th {\n",
       "        text-align: right;\n",
       "    }\n",
       "</style>\n",
       "<table border=\"1\" class=\"dataframe\">\n",
       "  <thead>\n",
       "    <tr style=\"text-align: right;\">\n",
       "      <th></th>\n",
       "      <th>Año</th>\n",
       "      <th>Trimestre</th>\n",
       "      <th>Virtual</th>\n",
       "    </tr>\n",
       "  </thead>\n",
       "  <tbody>\n",
       "    <tr>\n",
       "      <th>38</th>\n",
       "      <td>2020</td>\n",
       "      <td>Tercero</td>\n",
       "      <td>69818.570312</td>\n",
       "    </tr>\n",
       "    <tr>\n",
       "      <th>42</th>\n",
       "      <td>2021</td>\n",
       "      <td>Tercero</td>\n",
       "      <td>70593.742188</td>\n",
       "    </tr>\n",
       "    <tr>\n",
       "      <th>47</th>\n",
       "      <td>2022</td>\n",
       "      <td>Cuarto</td>\n",
       "      <td>70089.828125</td>\n",
       "    </tr>\n",
       "    <tr>\n",
       "      <th>49</th>\n",
       "      <td>2023</td>\n",
       "      <td>Segundo</td>\n",
       "      <td>133616.859375</td>\n",
       "    </tr>\n",
       "    <tr>\n",
       "      <th>53</th>\n",
       "      <td>2024</td>\n",
       "      <td>Segundo</td>\n",
       "      <td>286810.343750</td>\n",
       "    </tr>\n",
       "  </tbody>\n",
       "</table>\n",
       "</div>"
      ],
      "text/plain": [
       "     Año Trimestre        Virtual\n",
       "38  2020   Tercero   69818.570312\n",
       "42  2021   Tercero   70593.742188\n",
       "47  2022    Cuarto   70089.828125\n",
       "49  2023   Segundo  133616.859375\n",
       "53  2024   Segundo  286810.343750"
      ]
     },
     "execution_count": 137,
     "metadata": {},
     "output_type": "execute_result"
    }
   ],
   "source": [
    "max_vir = recaudacion_tri.loc[recaudacion_tri.groupby('Año')['Virtual'].idxmax(), ['Año', 'Trimestre', 'Virtual']]\n",
    "max_vir.tail()\n"
   ]
  },
  {
   "cell_type": "code",
   "execution_count": 115,
   "metadata": {},
   "outputs": [
    {
     "data": {
      "text/html": [
       "<div>\n",
       "<style scoped>\n",
       "    .dataframe tbody tr th:only-of-type {\n",
       "        vertical-align: middle;\n",
       "    }\n",
       "\n",
       "    .dataframe tbody tr th {\n",
       "        vertical-align: top;\n",
       "    }\n",
       "\n",
       "    .dataframe thead th {\n",
       "        text-align: right;\n",
       "    }\n",
       "</style>\n",
       "<table border=\"1\" class=\"dataframe\">\n",
       "  <thead>\n",
       "    <tr style=\"text-align: right;\">\n",
       "      <th></th>\n",
       "      <th>Año</th>\n",
       "      <th>Trimestre</th>\n",
       "      <th>Efectivo</th>\n",
       "    </tr>\n",
       "  </thead>\n",
       "  <tbody>\n",
       "    <tr>\n",
       "      <th>2</th>\n",
       "      <td>2011</td>\n",
       "      <td>Tercero</td>\n",
       "      <td>9667.336914</td>\n",
       "    </tr>\n",
       "    <tr>\n",
       "      <th>4</th>\n",
       "      <td>2012</td>\n",
       "      <td>Primero</td>\n",
       "      <td>8662.817383</td>\n",
       "    </tr>\n",
       "    <tr>\n",
       "      <th>9</th>\n",
       "      <td>2013</td>\n",
       "      <td>Segundo</td>\n",
       "      <td>37591.730469</td>\n",
       "    </tr>\n",
       "    <tr>\n",
       "      <th>12</th>\n",
       "      <td>2014</td>\n",
       "      <td>Primero</td>\n",
       "      <td>16532.816406</td>\n",
       "    </tr>\n",
       "    <tr>\n",
       "      <th>16</th>\n",
       "      <td>2015</td>\n",
       "      <td>Primero</td>\n",
       "      <td>14533.766602</td>\n",
       "    </tr>\n",
       "  </tbody>\n",
       "</table>\n",
       "</div>"
      ],
      "text/plain": [
       "     Año Trimestre      Efectivo\n",
       "2   2011   Tercero   9667.336914\n",
       "4   2012   Primero   8662.817383\n",
       "9   2013   Segundo  37591.730469\n",
       "12  2014   Primero  16532.816406\n",
       "16  2015   Primero  14533.766602"
      ]
     },
     "execution_count": 115,
     "metadata": {},
     "output_type": "execute_result"
    }
   ],
   "source": [
    "max_efec = recaudacion_tri.loc[recaudacion_tri.groupby('Año')['Efectivo'].idxmax(), ['Año', 'Trimestre', 'Efectivo']]\n",
    "max_efec.head()"
   ]
  },
  {
   "cell_type": "code",
   "execution_count": 27,
   "metadata": {},
   "outputs": [],
   "source": [
    "import matplotlib.pyplot as plt\n",
    "import seaborn as sns"
   ]
  },
  {
   "cell_type": "code",
   "execution_count": 134,
   "metadata": {},
   "outputs": [],
   "source": [
    "def grafica(df, col):\n",
    "    # Nueva columna Año-Trimestre\n",
    "    df['Año_Trimestre'] = df['Año'].astype(str) + \" - \" + df['Trimestre']\n",
    "\n",
    "    # Crear la gráfica\n",
    "    plt.figure(figsize=(14, 7))  \n",
    "    sns.barplot(x='Año_Trimestre', y=col, data=df, palette='viridis')\n",
    "\n",
    "    plt.xticks(rotation=45, fontsize = 6)\n",
    "\n",
    "    # Etiquetas y título\n",
    "    plt.xlabel('Año - Trimestre')\n",
    "    plt.ylabel('Monto ' + df.columns[2])\n",
    "    plt.title('Trimestres con mayor recaudación 2011-2024 (Millones de pesos)')\n",
    "\n",
    "    #Etiqueta en la esquina inferior derecha de la figura\n",
    "    plt.figtext(\n",
    "        0.98,  \n",
    "        0.0001,  \n",
    "        \"Reporte de la recaudación obtenida de la fiscalización. Fuente: datos.gob.mx\",  # Texto\n",
    "        fontsize=5,\n",
    "        color=\"black\",\n",
    "        ha=\"right\",  # Alineación horizontal (derecha)\n",
    "        va=\"bottom\"  # Alineación vertical (inferior)\n",
    "    )\n",
    "\n",
    "   \n",
    "    plt.show()"
   ]
  },
  {
   "cell_type": "code",
   "execution_count": 135,
   "metadata": {},
   "outputs": [
    {
     "data": {
      "image/png": "[encoded data removed]",
      "text/plain": [
       "<Figure size 1400x700 with 1 Axes>"
      ]
     },
     "metadata": {},
     "output_type": "display_data"
    }
   ],
   "source": [
    "grafica(max_vir,col ='Virtual')\n"
   ]
  },
  {
   "cell_type": "code",
   "execution_count": 136,
   "metadata": {},
   "outputs": [
    {
     "data": {
      "image/png": "[encoded data removed]",
      "text/plain": [
       "<Figure size 1400x700 with 1 Axes>"
      ]
     },
     "metadata": {},
     "output_type": "display_data"
    }
   ],
   "source": [
    "grafica(max_efec,col ='Efectivo')"
   ]
  },
  {
   "cell_type": "markdown",
   "metadata": {},
   "source": [
    "### 2. Promedio de recaudacion por año."
   ]
  },
  {
   "cell_type": "code",
   "execution_count": 119,
   "metadata": {},
   "outputs": [
    {
     "data": {
      "text/html": [
       "<div>\n",
       "<style scoped>\n",
       "    .dataframe tbody tr th:only-of-type {\n",
       "        vertical-align: middle;\n",
       "    }\n",
       "\n",
       "    .dataframe tbody tr th {\n",
       "        vertical-align: top;\n",
       "    }\n",
       "\n",
       "    .dataframe thead th {\n",
       "        text-align: right;\n",
       "    }\n",
       "</style>\n",
       "<table border=\"1\" class=\"dataframe\">\n",
       "  <thead>\n",
       "    <tr style=\"text-align: right;\">\n",
       "      <th></th>\n",
       "      <th>Año</th>\n",
       "      <th>Trimestre</th>\n",
       "      <th>Efectivo</th>\n",
       "      <th>Virtual</th>\n",
       "    </tr>\n",
       "  </thead>\n",
       "  <tbody>\n",
       "    <tr>\n",
       "      <th>0</th>\n",
       "      <td>2011</td>\n",
       "      <td>Primero</td>\n",
       "      <td>6669.589355</td>\n",
       "      <td>20100.164062</td>\n",
       "    </tr>\n",
       "    <tr>\n",
       "      <th>1</th>\n",
       "      <td>2011</td>\n",
       "      <td>Segundo</td>\n",
       "      <td>8793.154297</td>\n",
       "      <td>10636.439453</td>\n",
       "    </tr>\n",
       "    <tr>\n",
       "      <th>2</th>\n",
       "      <td>2011</td>\n",
       "      <td>Tercero</td>\n",
       "      <td>9667.336914</td>\n",
       "      <td>18009.123047</td>\n",
       "    </tr>\n",
       "    <tr>\n",
       "      <th>3</th>\n",
       "      <td>2011</td>\n",
       "      <td>Cuarto</td>\n",
       "      <td>6671.986328</td>\n",
       "      <td>22074.367188</td>\n",
       "    </tr>\n",
       "    <tr>\n",
       "      <th>4</th>\n",
       "      <td>2012</td>\n",
       "      <td>Primero</td>\n",
       "      <td>8662.817383</td>\n",
       "      <td>14237.835938</td>\n",
       "    </tr>\n",
       "  </tbody>\n",
       "</table>\n",
       "</div>"
      ],
      "text/plain": [
       "    Año Trimestre     Efectivo       Virtual\n",
       "0  2011   Primero  6669.589355  20100.164062\n",
       "1  2011   Segundo  8793.154297  10636.439453\n",
       "2  2011   Tercero  9667.336914  18009.123047\n",
       "3  2011    Cuarto  6671.986328  22074.367188\n",
       "4  2012   Primero  8662.817383  14237.835938"
      ]
     },
     "execution_count": 119,
     "metadata": {},
     "output_type": "execute_result"
    }
   ],
   "source": [
    "recaudacion_tri.head()"
   ]
  },
  {
   "cell_type": "code",
   "execution_count": 125,
   "metadata": {},
   "outputs": [
    {
     "data": {
      "text/html": [
       "<div>\n",
       "<style scoped>\n",
       "    .dataframe tbody tr th:only-of-type {\n",
       "        vertical-align: middle;\n",
       "    }\n",
       "\n",
       "    .dataframe tbody tr th {\n",
       "        vertical-align: top;\n",
       "    }\n",
       "\n",
       "    .dataframe thead th {\n",
       "        text-align: right;\n",
       "    }\n",
       "</style>\n",
       "<table border=\"1\" class=\"dataframe\">\n",
       "  <thead>\n",
       "    <tr style=\"text-align: right;\">\n",
       "      <th></th>\n",
       "      <th>Año</th>\n",
       "      <th>Efectivo</th>\n",
       "      <th>Virtual</th>\n",
       "    </tr>\n",
       "  </thead>\n",
       "  <tbody>\n",
       "    <tr>\n",
       "      <th>0</th>\n",
       "      <td>2011</td>\n",
       "      <td>7950.516602</td>\n",
       "      <td>17705.023438</td>\n",
       "    </tr>\n",
       "    <tr>\n",
       "      <th>1</th>\n",
       "      <td>2012</td>\n",
       "      <td>7136.070312</td>\n",
       "      <td>17679.058594</td>\n",
       "    </tr>\n",
       "    <tr>\n",
       "      <th>2</th>\n",
       "      <td>2013</td>\n",
       "      <td>17093.460938</td>\n",
       "      <td>19244.171875</td>\n",
       "    </tr>\n",
       "    <tr>\n",
       "      <th>3</th>\n",
       "      <td>2014</td>\n",
       "      <td>14363.923828</td>\n",
       "      <td>24664.441406</td>\n",
       "    </tr>\n",
       "    <tr>\n",
       "      <th>4</th>\n",
       "      <td>2015</td>\n",
       "      <td>12360.987305</td>\n",
       "      <td>22748.962891</td>\n",
       "    </tr>\n",
       "    <tr>\n",
       "      <th>5</th>\n",
       "      <td>2016</td>\n",
       "      <td>14674.220703</td>\n",
       "      <td>21067.316406</td>\n",
       "    </tr>\n",
       "    <tr>\n",
       "      <th>6</th>\n",
       "      <td>2017</td>\n",
       "      <td>17726.955078</td>\n",
       "      <td>23045.916016</td>\n",
       "    </tr>\n",
       "    <tr>\n",
       "      <th>7</th>\n",
       "      <td>2018</td>\n",
       "      <td>24155.248047</td>\n",
       "      <td>23735.623047</td>\n",
       "    </tr>\n",
       "    <tr>\n",
       "      <th>8</th>\n",
       "      <td>2019</td>\n",
       "      <td>30764.785156</td>\n",
       "      <td>27605.636719</td>\n",
       "    </tr>\n",
       "    <tr>\n",
       "      <th>9</th>\n",
       "      <td>2020</td>\n",
       "      <td>54063.421875</td>\n",
       "      <td>42385.042969</td>\n",
       "    </tr>\n",
       "    <tr>\n",
       "      <th>10</th>\n",
       "      <td>2021</td>\n",
       "      <td>45805.664062</td>\n",
       "      <td>51947.761719</td>\n",
       "    </tr>\n",
       "    <tr>\n",
       "      <th>11</th>\n",
       "      <td>2022</td>\n",
       "      <td>53811.265625</td>\n",
       "      <td>51711.531250</td>\n",
       "    </tr>\n",
       "    <tr>\n",
       "      <th>12</th>\n",
       "      <td>2023</td>\n",
       "      <td>59560.789062</td>\n",
       "      <td>66074.304688</td>\n",
       "    </tr>\n",
       "    <tr>\n",
       "      <th>13</th>\n",
       "      <td>2024</td>\n",
       "      <td>49512.742188</td>\n",
       "      <td>147170.187500</td>\n",
       "    </tr>\n",
       "  </tbody>\n",
       "</table>\n",
       "</div>"
      ],
      "text/plain": [
       "     Año      Efectivo        Virtual\n",
       "0   2011   7950.516602   17705.023438\n",
       "1   2012   7136.070312   17679.058594\n",
       "2   2013  17093.460938   19244.171875\n",
       "3   2014  14363.923828   24664.441406\n",
       "4   2015  12360.987305   22748.962891\n",
       "5   2016  14674.220703   21067.316406\n",
       "6   2017  17726.955078   23045.916016\n",
       "7   2018  24155.248047   23735.623047\n",
       "8   2019  30764.785156   27605.636719\n",
       "9   2020  54063.421875   42385.042969\n",
       "10  2021  45805.664062   51947.761719\n",
       "11  2022  53811.265625   51711.531250\n",
       "12  2023  59560.789062   66074.304688\n",
       "13  2024  49512.742188  147170.187500"
      ]
     },
     "execution_count": 125,
     "metadata": {},
     "output_type": "execute_result"
    }
   ],
   "source": [
    "promedio_por_año = recaudacion_tri[['Año', 'Efectivo','Virtual']].groupby('Año', as_index=False).mean()\n",
    "promedio_por_año"
   ]
  },
  {
   "cell_type": "markdown",
   "metadata": {},
   "source": [
    "### 3. Año con mayor recaudacion promedio."
   ]
  },
  {
   "cell_type": "code",
   "execution_count": 133,
   "metadata": {},
   "outputs": [
    {
     "name": "stdout",
     "output_type": "stream",
     "text": [
      "Año con mayor recaudacion promedio.\n",
      "\n"
     ]
    },
    {
     "data": {
      "text/html": [
       "<div>\n",
       "<style scoped>\n",
       "    .dataframe tbody tr th:only-of-type {\n",
       "        vertical-align: middle;\n",
       "    }\n",
       "\n",
       "    .dataframe tbody tr th {\n",
       "        vertical-align: top;\n",
       "    }\n",
       "\n",
       "    .dataframe thead th {\n",
       "        text-align: right;\n",
       "    }\n",
       "</style>\n",
       "<table border=\"1\" class=\"dataframe\">\n",
       "  <thead>\n",
       "    <tr style=\"text-align: right;\">\n",
       "      <th></th>\n",
       "      <th></th>\n",
       "      <th>Año</th>\n",
       "      <th>Monto</th>\n",
       "    </tr>\n",
       "  </thead>\n",
       "  <tbody>\n",
       "    <tr>\n",
       "      <th>0</th>\n",
       "      <td>Efectivo</td>\n",
       "      <td>2023</td>\n",
       "      <td>59560.789062</td>\n",
       "    </tr>\n",
       "    <tr>\n",
       "      <th>1</th>\n",
       "      <td>Virtual</td>\n",
       "      <td>2024</td>\n",
       "      <td>147170.187500</td>\n",
       "    </tr>\n",
       "  </tbody>\n",
       "</table>\n",
       "</div>"
      ],
      "text/plain": [
       "              Año          Monto\n",
       "0  Efectivo  2023   59560.789062\n",
       "1   Virtual  2024  147170.187500"
      ]
     },
     "execution_count": 133,
     "metadata": {},
     "output_type": "execute_result"
    }
   ],
   "source": [
    "year_max_efectivo = promedio_por_año.loc[promedio_por_año['Efectivo'].idxmax(), 'Año']\n",
    "monto_max_efectivo = promedio_por_año['Efectivo'].max()\n",
    "\n",
    "year_max_virtual = promedio_por_año.loc[promedio_por_año['Virtual'].idxmax(), 'Año']\n",
    "monto_max_virtual = promedio_por_año['Virtual'].max()\n",
    "\n",
    "print(\"Año con mayor recaudacion promedio.\\n\")\n",
    "monto_max = {\n",
    "    ' ': ['Efectivo','Virtual'],\n",
    "    'Año' : [year_max_efectivo,year_max_virtual],\n",
    "    'Monto': [monto_max_efectivo, monto_max_virtual]\n",
    "}\n",
    "\n",
    "\n",
    "df = pd.DataFrame(monto_max)\n",
    "df\n",
    "\n",
    "\n"
   ]
  },
  {
   "cell_type": "markdown",
   "metadata": {},
   "source": [
    "# Conclusiones.\n",
    "\n",
    "*  A partir del año 2020 se refleja un aumento en la recaudacion que se obtiene por fiscalizacion en ambas categorias (Virtual y Efectivo).\n",
    "*  El monto denominado como Virtual en 2024 se triplico en comparacion con el año 2020.\n",
    "*  El año 2023 tuvo la mayor recaudación promedio en los montos denominados como Efectivo."
   ]
  }
 ],
 "metadata": {
  "kernelspec": {
   "display_name": "base",
   "language": "python",
   "name": "python3"
  },
  "language_info": {
   "codemirror_mode": {
    "name": "ipython",
    "version": 3
   },
   "file_extension": ".py",
   "mimetype": "text/x-python",
   "name": "python",
   "nbconvert_exporter": "python",
   "pygments_lexer": "ipython3",
   "version": "3.11.3"
  }
 },
 "nbformat": 4,
 "nbformat_minor": 2
}
